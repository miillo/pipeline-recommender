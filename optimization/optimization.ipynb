{
 "cells": [
  {
   "cell_type": "code",
   "execution_count": 10,
   "outputs": [],
   "source": [
    "import pandas as pd\n",
    "import numpy as np\n",
    "from sklearn.preprocessing import PolynomialFeatures\n",
    "from sklearn.linear_model import LinearRegression\n",
    "import matplotlib.pyplot as plt"
   ],
   "metadata": {
    "collapsed": false,
    "pycharm": {
     "name": "#%%\n"
    }
   }
  },
  {
   "cell_type": "markdown",
   "source": [
    "## Polynomial regression"
   ],
   "metadata": {
    "collapsed": false
   }
  },
  {
   "cell_type": "code",
   "execution_count": 16,
   "outputs": [
    {
     "name": "stdout",
     "output_type": "stream",
     "text": [
      "Index(['number_of_executors', 'executor_memory', 'dag_duration'], dtype='object')\n"
     ]
    },
    {
     "data": {
      "text/plain": "<Figure size 432x288 with 1 Axes>",
      "image/png": "[encoded data removed]"
     },
     "metadata": {
      "needs_background": "light"
     },
     "output_type": "display_data"
    }
   ],
   "source": [
    "train_df = pd.read_csv('prom_data.csv')\n",
    "train_df.drop(['executor_core_request'], axis=1, inplace=True)\n",
    "train_df.drop(['driver_memory'], axis=1, inplace=True)\n",
    "train_df.plot(kind = 'scatter', x='dag_duration', y='number_of_executors')\n",
    "print(train_df.columns)"
   ],
   "metadata": {
    "collapsed": false,
    "pycharm": {
     "name": "#%%\n"
    }
   }
  },
  {
   "cell_type": "code",
   "execution_count": 17,
   "outputs": [
    {
     "data": {
      "text/plain": "   number_of_executors  executor_memory  dag_duration\n0                    2              512          1186\n1                    4              512          1210\n2                    2              550          1070\n3                    4              550          1060\n4                    2              600          1000",
      "text/html": "<div>\n<style scoped>\n    .dataframe tbody tr th:only-of-type {\n        vertical-align: middle;\n    }\n\n    .dataframe tbody tr th {\n        vertical-align: top;\n    }\n\n    .dataframe thead th {\n        text-align: right;\n    }\n</style>\n<table border=\"1\" class=\"dataframe\">\n  <thead>\n    <tr style=\"text-align: right;\">\n      <th></th>\n      <th>number_of_executors</th>\n      <th>executor_memory</th>\n      <th>dag_duration</th>\n    </tr>\n  </thead>\n  <tbody>\n    <tr>\n      <th>0</th>\n      <td>2</td>\n      <td>512</td>\n      <td>1186</td>\n    </tr>\n    <tr>\n      <th>1</th>\n      <td>4</td>\n      <td>512</td>\n      <td>1210</td>\n    </tr>\n    <tr>\n      <th>2</th>\n      <td>2</td>\n      <td>550</td>\n      <td>1070</td>\n    </tr>\n    <tr>\n      <th>3</th>\n      <td>4</td>\n      <td>550</td>\n      <td>1060</td>\n    </tr>\n    <tr>\n      <th>4</th>\n      <td>2</td>\n      <td>600</td>\n      <td>1000</td>\n    </tr>\n  </tbody>\n</table>\n</div>"
     },
     "execution_count": 17,
     "metadata": {},
     "output_type": "execute_result"
    }
   ],
   "source": [
    "train_df.head()"
   ],
   "metadata": {
    "collapsed": false,
    "pycharm": {
     "name": "#%%\n"
    }
   }
  },
  {
   "cell_type": "code",
   "execution_count": 18,
   "outputs": [],
   "source": [
    "X = train_df.iloc[:, 0:2]\n",
    "Y = train_df.iloc[:, 2]\n",
    "poly_features = PolynomialFeatures(degree=2, include_bias=False)\n",
    "X_poly = poly_features.fit_transform(X)\n",
    "lin_reg = LinearRegression()\n",
    "lin_reg.fit(X_poly, Y)\n",
    "lin_reg.intercept_, lin_reg.coef_\n",
    "coef = lin_reg.coef_\n",
    "intercept = lin_reg.intercept_"
   ],
   "metadata": {
    "collapsed": false,
    "pycharm": {
     "name": "#%%\n"
    }
   }
  },
  {
   "cell_type": "markdown",
   "source": [
    "## scipy optimize\n",
    "### https://www.youtube.com/watch?v=cXHvC_FGx24"
   ],
   "metadata": {
    "collapsed": false
   }
  },
  {
   "cell_type": "code",
   "execution_count": 20,
   "outputs": [
    {
     "name": "stdout",
     "output_type": "stream",
     "text": [
      "     fun: 22836.83822139487\n",
      "     jac: array([820.97216797,   2.26855469])\n",
      " message: 'Optimization terminated successfully'\n",
      "    nfev: 3\n",
      "     nit: 5\n",
      "    njev: 1\n",
      "  status: 0\n",
      " success: True\n",
      "       x: array([ 60., 512.])\n"
     ]
    }
   ],
   "source": [
    "from scipy.optimize import minimize\n",
    "\n",
    "# quadratic fun computed above\n",
    "def objective(x):\n",
    "    x1 = x[0]\n",
    "    x2 = x[1]\n",
    "    return x1*coef[0] + x2*coef[1] + x1**2*coef[2] + x1*x2*coef[3] + x2**2*coef[4] + intercept\n",
    "\n",
    "# no. of executors > 1\n",
    "def constraint1(x):\n",
    "    return x[0] - 1\n",
    "\n",
    "# min. executor memory > 512\n",
    "def constraint2(x):\n",
    "    return x[1] - 512\n",
    "\n",
    "# initial guess\n",
    "x0 = [2, 512]\n",
    "\n",
    "# optimization bounds\n",
    "b = (60, 1500)\n",
    "bnds = (b,b)\n",
    "con1 = {'type': 'ineq', 'fun': constraint1}\n",
    "con2 = {'type': 'ineq', 'fun': constraint2}\n",
    "cons = [con1, con2]\n",
    "sol = minimize(objective,x0, method='SLSQP',bounds=bnds, constraints=cons)\n",
    "print(sol)"
   ],
   "metadata": {
    "collapsed": false,
    "pycharm": {
     "name": "#%%\n"
    }
   }
  },
  {
   "cell_type": "markdown",
   "source": [
    "## Polyfit from numpy for each attribute - test"
   ],
   "metadata": {
    "collapsed": false
   }
  },
  {
   "cell_type": "code",
   "execution_count": 22,
   "outputs": [
    {
     "name": "stdout",
     "output_type": "stream",
     "text": [
      "[769.01111392 767.15545808 765.36492658 763.6351029  761.96200509\n",
      " 760.34203055 758.77190939 757.24866458 755.76957806 754.33216155\n",
      " 752.93413131 751.57338636 750.24798946 748.95615054 747.69621216\n",
      " 746.46663672 745.26599516 744.09295702 742.94628154 741.82480976\n",
      " 740.72745754 739.65320919 738.60111188 737.57027052 736.55984321\n",
      " 735.56903709 734.59710462 733.64334019 732.707077   731.78768435\n",
      " 730.88456499 729.99715285 729.1249109  728.26732917 727.423923\n",
      " 726.59423135 725.77781535 724.97425682 724.18315707 723.40413566\n",
      " 722.63682929 721.88089085 721.13598839 720.40180433 719.67803458\n",
      " 718.96438782 718.26058478 717.56635758 716.88144915 716.20561263\n",
      " 715.53861082 714.88021573 714.23020806 713.58837681 712.95451882\n",
      " 712.32843843 711.70994708 711.09886299 710.49501083 709.89822143\n",
      " 709.30833149 708.72518329 708.14862448 707.5785078  707.01469089\n",
      " 706.45703603 705.90540999 705.3596838  704.81973261 704.28543546\n",
      " 703.75667516 703.23333815 702.71531429 702.20249679 701.69478204\n",
      " 701.19206948 700.69426151 700.20126336 699.71298297 699.22933089\n",
      " 698.75022022 698.27556646 697.80528744 697.33930327 696.87753622\n",
      " 696.41991062 695.96635286 695.51679126 695.07115601 694.62937912\n",
      " 694.19139436 693.75713717 693.32654464 692.89955544 692.47610976\n",
      " 692.05614927 691.63961706 691.22645762 690.81661677 690.41004162]\n",
      "[1774.21300305 1765.25749377 1756.61627854 1748.26804297 1740.19356991\n",
      " 1732.37547311 1724.7979717  1717.44669848 1710.30853593 1703.37147536\n",
      " 1696.62449536 1690.05745645 1683.66100941 1677.42651527 1671.3459751\n",
      " 1665.41196832 1659.61759827 1653.95644401 1648.42251752 1643.01022569\n",
      " 1637.71433631 1632.52994766 1627.45246128 1622.47755743 1617.60117303\n",
      " 1612.81948172 1608.1288758  1603.52594991 1599.00748617 1594.57044063\n",
      " 1590.211931   1585.9292254  1581.71973204 1577.58098983 1573.51065971\n",
      " 1569.50651677 1565.56644287 1561.68841997 1557.87052388 1554.11091856\n",
      " 1550.40785081 1546.75964534 1543.16470025 1539.62148279 1536.12852543\n",
      " 1532.68442222 1529.2878254  1525.93744222 1522.63203199 1519.37040331\n",
      " 1516.15141152 1512.97395627 1509.83697926 1506.73946213 1503.68042447\n",
      " 1500.65892196 1497.67404462 1494.72491518 1491.8106875  1488.93054513\n",
      " 1486.08369996 1483.26939086 1480.48688256 1477.73546438 1475.01444923\n",
      " 1472.32317255 1469.66099133 1467.02728317 1464.42144547 1461.84289452\n",
      " 1459.2910648  1456.76540814 1454.26539311 1451.79050429 1449.34024164\n",
      " 1446.91411989 1444.51166801 1442.13242858 1439.77595734 1437.44182266\n",
      " 1435.12960506 1432.83889677 1430.5693013  1428.32043303 1426.09191677\n",
      " 1423.88338748 1421.69448983 1419.52487786 1417.37421471 1415.24217226\n",
      " 1413.12843083 1411.0326789  1408.95461285 1406.89393668 1404.85036176\n",
      " 1402.82360657 1400.81339651 1398.81946363 1396.84154645 1394.87938973]\n"
     ]
    },
    {
     "data": {
      "text/plain": "<Figure size 432x288 with 1 Axes>",
      "image/png": "[encoded data removed]"
     },
     "metadata": {
      "needs_background": "light"
     },
     "output_type": "display_data"
    },
    {
     "data": {
      "text/plain": "<Figure size 432x288 with 1 Axes>",
      "image/png": "[encoded data removed]"
     },
     "metadata": {
      "needs_background": "light"
     },
     "output_type": "display_data"
    }
   ],
   "source": [
    "number_of_executors = train_df.iloc[:, 0]\n",
    "executor_memory\t = train_df.iloc[:, 1]\n",
    "dag_duration = train_df.iloc[:, 2]\n",
    "\n",
    "#fit the model\n",
    "fit_exec_num = np.polyfit(np.log(number_of_executors), dag_duration, 1)\n",
    "\n",
    "fit_exec_mem = np.polyfit(np.log(executor_memory), dag_duration, 1)\n",
    "\n",
    "x = np.linspace(15,70,100)\n",
    "y_exec_num = fit_exec_num[0] * np.log(x) + fit_exec_num[1]\n",
    "y_exec_mem = fit_exec_mem[0] * np.log(x) + fit_exec_mem[1]\n",
    "\n",
    "#view the output of the model\n",
    "print(fit_exec_num)\n",
    "print(fit_exec_mem)\n",
    "\n",
    "plt.scatter(number_of_executors, dag_duration)\n",
    "plt.xlabel(\"number_of_executors\")\n",
    "plt.ylabel(\"dag_duration\")\n",
    "plt.plot(x, y_exec_num, 'r')\n",
    "plt.show()\n",
    "\n",
    "plt.scatter(executor_memory, dag_duration)\n",
    "plt.xlabel(\"executor_memory\")\n",
    "plt.ylabel(\"dag_duration\")\n",
    "plt.plot(x, y_exec_mem, 'r')\n",
    "plt.show()"
   ],
   "metadata": {
    "collapsed": false,
    "pycharm": {
     "name": "#%%\n"
    }
   }
  }
 ],
 "metadata": {
  "kernelspec": {
   "display_name": "Python 3",
   "language": "python",
   "name": "python3"
  },
  "language_info": {
   "codemirror_mode": {
    "name": "ipython",
    "version": 2
   },
   "file_extension": ".py",
   "mimetype": "text/x-python",
   "name": "python",
   "nbconvert_exporter": "python",
   "pygments_lexer": "ipython2",
   "version": "2.7.6"
  }
 },
 "nbformat": 4,
 "nbformat_minor": 0
}